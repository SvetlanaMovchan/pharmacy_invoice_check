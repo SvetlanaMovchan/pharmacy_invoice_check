{
 "cells": [
  {
   "cell_type": "code",
   "execution_count": 2,
   "id": "575a0af2-a332-464a-a1c7-9083056f0584",
   "metadata": {},
   "outputs": [],
   "source": [
    "import pandas as pd\n",
    "import glob\n",
    "import os\n",
    "from datetime import datetime"
   ]
  },
  {
   "cell_type": "markdown",
   "id": "032c912c-8bc4-4fc8-ad4e-2dafc500f0b7",
   "metadata": {},
   "source": [
    "Загрузка всех csv файлов из СБИС в один датафрейм. Переименовка столбцов"
   ]
  },
  {
   "cell_type": "code",
   "execution_count": 4,
   "id": "65ffa16b-cec1-4e31-ace1-cd11727130fa",
   "metadata": {},
   "outputs": [
    {
     "data": {
      "text/plain": [
       "['practic/Входящие\\\\Входящие 01.csv',\n",
       " 'practic/Входящие\\\\Входящие 02.csv',\n",
       " 'practic/Входящие\\\\Входящие 03.csv']"
      ]
     },
     "execution_count": 4,
     "metadata": {},
     "output_type": "execute_result"
    }
   ],
   "source": [
    "glob.glob('practic/Входящие/*.csv')"
   ]
  },
  {
   "cell_type": "code",
   "execution_count": 5,
   "id": "3f4f3ef9-af3f-4da5-b35e-05a8b35c7c42",
   "metadata": {},
   "outputs": [],
   "source": [
    "files_sbis = glob.glob('practic/Входящие/*.csv')\n",
    "\n",
    "dfs = []\n",
    "for file_name in files_sbis:\n",
    "    smal_df = pd.read_csv(file_name, encoding='1251', sep=';')\n",
    "    dfs.append(smal_df)"
   ]
  },
  {
   "cell_type": "code",
   "execution_count": 6,
   "id": "36f85622-7e08-4a49-bee1-27a5e971d453",
   "metadata": {},
   "outputs": [],
   "source": [
    "general_df_incoming = pd.concat(dfs, ignore_index=True)\n",
    "pd.set_option('display.max_columns', 40)"
   ]
  },
  {
   "cell_type": "code",
   "execution_count": 7,
   "id": "93bb3005-c854-462a-a2bb-5c1fa8faaf2d",
   "metadata": {},
   "outputs": [],
   "source": [
    "columns_names = [\"Дата\", \"Номер\", \"Сумма\", \"Статус\", \"Примечание\", \"Комментарий\", \"Контрагент\", \"ИНН/КПП\", \"Организация\", \"ИНН/КПП\", \"Тип документа\", \n",
    "                      \"Имя файла\", \"Дата\", \"Номер 1\", \"Сумма 1\", \"Сумма НДС\",\"Ответственный\", \"Подразделение\", \"Код\", \"Дата\", \"Время\", \"Тип пакета\", \"Идентификатор пакета\",\n",
    "                      \"Запущено в обработку\", \"Получено контрагентом\", \"Завершено\", \"Увеличение суммы\", \"НДC\", \"Уменьшение суммы\", \"НДС\"]"
   ]
  },
  {
   "cell_type": "code",
   "execution_count": 8,
   "id": "8b1342fe-78c6-478c-ab0c-50453e3e0a4c",
   "metadata": {},
   "outputs": [],
   "source": [
    "general_df_incoming.columns = columns_names\n",
    "general_df_incoming.columns = [c.replace(' ', '_') for c in general_df_incoming.columns]"
   ]
  },
  {
   "cell_type": "code",
   "execution_count": 9,
   "id": "7cf3c433-5cd8-4b12-8d95-2ff9a2362100",
   "metadata": {},
   "outputs": [
    {
     "data": {
      "text/html": [
       "<div>\n",
       "<style scoped>\n",
       "    .dataframe tbody tr th:only-of-type {\n",
       "        vertical-align: middle;\n",
       "    }\n",
       "\n",
       "    .dataframe tbody tr th {\n",
       "        vertical-align: top;\n",
       "    }\n",
       "\n",
       "    .dataframe thead th {\n",
       "        text-align: right;\n",
       "    }\n",
       "</style>\n",
       "<table border=\"1\" class=\"dataframe\">\n",
       "  <thead>\n",
       "    <tr style=\"text-align: right;\">\n",
       "      <th></th>\n",
       "      <th>Дата</th>\n",
       "      <th>Номер</th>\n",
       "      <th>Сумма</th>\n",
       "      <th>Статус</th>\n",
       "      <th>Примечание</th>\n",
       "      <th>Комментарий</th>\n",
       "      <th>Контрагент</th>\n",
       "      <th>ИНН/КПП</th>\n",
       "      <th>Организация</th>\n",
       "      <th>ИНН/КПП</th>\n",
       "      <th>Тип_документа</th>\n",
       "      <th>Имя_файла</th>\n",
       "      <th>Дата</th>\n",
       "      <th>Номер_1</th>\n",
       "      <th>Сумма_1</th>\n",
       "      <th>Сумма_НДС</th>\n",
       "      <th>Ответственный</th>\n",
       "      <th>Подразделение</th>\n",
       "      <th>Код</th>\n",
       "      <th>Дата</th>\n",
       "      <th>Время</th>\n",
       "      <th>Тип_пакета</th>\n",
       "      <th>Идентификатор_пакета</th>\n",
       "      <th>Запущено_в_обработку</th>\n",
       "      <th>Получено_контрагентом</th>\n",
       "      <th>Завершено</th>\n",
       "      <th>Увеличение_суммы</th>\n",
       "      <th>НДC</th>\n",
       "      <th>Уменьшение_суммы</th>\n",
       "      <th>НДС</th>\n",
       "    </tr>\n",
       "  </thead>\n",
       "  <tbody>\n",
       "    <tr>\n",
       "      <th>0</th>\n",
       "      <td>30.09.21</td>\n",
       "      <td>БРН00709545</td>\n",
       "      <td>4 056,46</td>\n",
       "      <td>Выполнение завершено успешно</td>\n",
       "      <td>NaN</td>\n",
       "      <td>БРН00709545 на сумму 4 056,46р.</td>\n",
       "      <td>Пульс Брянск, ООО</td>\n",
       "      <td>3255510243 / 325701001</td>\n",
       "      <td>ООО Рога и Копыта</td>\n",
       "      <td>4025419873 / 402501001</td>\n",
       "      <td>ЭДОНакл</td>\n",
       "      <td>DP_TOVTORGPR_2BE911035223f7011e2addf0050569171...</td>\n",
       "      <td>30.09.21</td>\n",
       "      <td>БРН00709545</td>\n",
       "      <td>4 056,46</td>\n",
       "      <td>368,77</td>\n",
       "      <td>NaN</td>\n",
       "      <td>Аптека №1</td>\n",
       "      <td>3</td>\n",
       "      <td>30.09.21</td>\n",
       "      <td>23:40:56</td>\n",
       "      <td>ДокОтгрВх</td>\n",
       "      <td>76210df0-7c48-4e6d-ad2b-6cbe2f3b7722</td>\n",
       "      <td>30.09.21 23:40</td>\n",
       "      <td>01.10.21 08:39</td>\n",
       "      <td>01.10.21 14:59</td>\n",
       "      <td>0,00</td>\n",
       "      <td>0,00</td>\n",
       "      <td>0,00</td>\n",
       "      <td>0,00</td>\n",
       "    </tr>\n",
       "    <tr>\n",
       "      <th>1</th>\n",
       "      <td>30.09.21</td>\n",
       "      <td>БРН00709545</td>\n",
       "      <td>4 056,46</td>\n",
       "      <td>Выполнение завершено успешно</td>\n",
       "      <td>NaN</td>\n",
       "      <td>БРН00709545 на сумму 4 056,46р.</td>\n",
       "      <td>Пульс Брянск, ООО</td>\n",
       "      <td>3255510243 / 325701001</td>\n",
       "      <td>ООО Рога и Копыта</td>\n",
       "      <td>4025419873 / 402501001</td>\n",
       "      <td>СчФктр</td>\n",
       "      <td>ON_NSCHFDOPPR_2BE911035223f7011e2addf005056917...</td>\n",
       "      <td>30.09.21</td>\n",
       "      <td>БРН00709545</td>\n",
       "      <td>4 056,46</td>\n",
       "      <td>368,77</td>\n",
       "      <td>NaN</td>\n",
       "      <td>Аптека №1</td>\n",
       "      <td>3</td>\n",
       "      <td>30.09.21</td>\n",
       "      <td>23:40:56</td>\n",
       "      <td>ДокОтгрВх</td>\n",
       "      <td>76210df0-7c48-4e6d-ad2b-6cbe2f3b7722</td>\n",
       "      <td>NaN</td>\n",
       "      <td>NaN</td>\n",
       "      <td>NaN</td>\n",
       "      <td>0,00</td>\n",
       "      <td>0,00</td>\n",
       "      <td>0,00</td>\n",
       "      <td>0,00</td>\n",
       "    </tr>\n",
       "  </tbody>\n",
       "</table>\n",
       "</div>"
      ],
      "text/plain": [
       "       Дата        Номер     Сумма                        Статус  Примечание  \\\n",
       "0  30.09.21  БРН00709545  4 056,46  Выполнение завершено успешно         NaN   \n",
       "1  30.09.21  БРН00709545  4 056,46  Выполнение завершено успешно         NaN   \n",
       "\n",
       "                       Комментарий         Контрагент                 ИНН/КПП  \\\n",
       "0  БРН00709545 на сумму 4 056,46р.  Пульс Брянск, ООО  3255510243 / 325701001   \n",
       "1  БРН00709545 на сумму 4 056,46р.  Пульс Брянск, ООО  3255510243 / 325701001   \n",
       "\n",
       "         Организация                 ИНН/КПП Тип_документа  \\\n",
       "0  ООО Рога и Копыта  4025419873 / 402501001       ЭДОНакл   \n",
       "1  ООО Рога и Копыта  4025419873 / 402501001        СчФктр   \n",
       "\n",
       "                                           Имя_файла      Дата      Номер_1  \\\n",
       "0  DP_TOVTORGPR_2BE911035223f7011e2addf0050569171...  30.09.21  БРН00709545   \n",
       "1  ON_NSCHFDOPPR_2BE911035223f7011e2addf005056917...  30.09.21  БРН00709545   \n",
       "\n",
       "    Сумма_1 Сумма_НДС  Ответственный Подразделение  Код      Дата     Время  \\\n",
       "0  4 056,46    368,77            NaN     Аптека №1    3  30.09.21  23:40:56   \n",
       "1  4 056,46    368,77            NaN     Аптека №1    3  30.09.21  23:40:56   \n",
       "\n",
       "  Тип_пакета                  Идентификатор_пакета Запущено_в_обработку  \\\n",
       "0  ДокОтгрВх  76210df0-7c48-4e6d-ad2b-6cbe2f3b7722       30.09.21 23:40   \n",
       "1  ДокОтгрВх  76210df0-7c48-4e6d-ad2b-6cbe2f3b7722                  NaN   \n",
       "\n",
       "  Получено_контрагентом       Завершено Увеличение_суммы   НДC  \\\n",
       "0        01.10.21 08:39  01.10.21 14:59             0,00  0,00   \n",
       "1                   NaN             NaN             0,00  0,00   \n",
       "\n",
       "  Уменьшение_суммы   НДС  \n",
       "0             0,00  0,00  \n",
       "1             0,00  0,00  "
      ]
     },
     "execution_count": 9,
     "metadata": {},
     "output_type": "execute_result"
    }
   ],
   "source": [
    "general_df_incoming.head(2)"
   ]
  },
  {
   "cell_type": "markdown",
   "id": "e95bf912-28ee-4a45-8fe3-950501beb083",
   "metadata": {},
   "source": [
    "Загрузка файлов из аптек в датафрейм, обработка информации, сохранение файла в xlsx формат"
   ]
  },
  {
   "cell_type": "code",
   "execution_count": 11,
   "id": "495304f5-8d4d-466b-ac07-5a22bc7c91b2",
   "metadata": {},
   "outputs": [
    {
     "name": "stdout",
     "output_type": "stream",
     "text": [
      "practic/Аптеки/csv/correct\\366.csv обработан!\n",
      "practic/Аптеки/csv/correct\\А123.csv обработан!\n"
     ]
    }
   ],
   "source": [
    "files_farm = glob.glob('practic/Аптеки/csv/correct/*.csv')\n",
    "today = datetime.today().strftime('%d-%m-%Y')\n",
    "doc_types = [\"СчФктр\", \"УпдДоп\", \"УпдСчфДоп\", \"ЭДОНакл\"]\n",
    "\n",
    "for file_name in files_farm:\n",
    "    #Чтение файла\n",
    "    df = pd.read_csv(file_name, encoding='1251', sep=';')\n",
    "    \n",
    "    #Обработка данных\n",
    "    df[['Номер счет-фактуры', 'Сумма счет-фактуры', 'Дата счет-фактуры', 'Сравнение дат' ]] = ''\n",
    "    df.loc[df['Поставщик'] == 'ЕАПТЕКА', 'Номер накладной'] = (df.loc[df['Поставщик'] == 'ЕАПТЕКА', 'Номер накладной'].astype(str) + '/15')\n",
    "\n",
    "    #Сверка строк СБИСа и Аптек\n",
    "    def find_matching_row(row):\n",
    "        match = general_df_incoming[general_df_incoming['Номер'] == row['Номер накладной']]\n",
    "        match = match[match['Тип_документа'].isin(doc_types)]\n",
    "    \n",
    "        if match.empty:\n",
    "            return pd.Series(['', '', '', ''])\n",
    "        else:\n",
    "            number = match.iloc[0][\"Номер\"]\n",
    "            summ = match.iloc[0][\"Сумма\"]\n",
    "            date = match.iloc[0, 0]\n",
    "\n",
    "        date = pd.to_datetime(date).strftime('%d.%m.%Y')\n",
    "        comparison = \"\" if date == row['Дата накладной'] else \"Не совпадает!\"\n",
    "        return pd.Series([number, summ, date, comparison])\n",
    "        \n",
    "    df[['Номер счет-фактуры', 'Сумма счет-фактуры', 'Дата счет-фактуры', 'Сравнение дат']] = df.apply(find_matching_row, axis=1)\n",
    "\n",
    "    df_columns = ['№ п/п', 'Штрих-код партии', 'Наименование товара', 'Поставщик','Дата приходного документа', 'Номер приходного документа',\n",
    "                  'Дата накладной', 'Номер накладной', 'Номер счет-фактуры', 'Сумма счет-фактуры', 'Кол-во', 'Сумма в закупочных ценах без НДС',\n",
    "                  'Ставка НДС поставщика', 'Сумма НДС', 'Сумма в закупочных ценах с НДС', 'Дата счет-фактуры', 'Сравнение дат']\n",
    "    \n",
    "    df = df[df_columns]\n",
    "\n",
    "    # Сохранение файла\n",
    "    filename_no_ext = os.path.splitext(os.path.basename(file_name))[0]\n",
    "    save_dir = f'practic/Результат/{today}/'\n",
    "    save_path = f'{save_dir}{filename_no_ext} - результат.xlsx'\n",
    "    os.makedirs(save_dir, exist_ok=True)\n",
    "    df.to_excel(save_path, index=False)\n",
    "    print(f'{file_name} обработан!')\n"
   ]
  },
  {
   "cell_type": "code",
   "execution_count": null,
   "id": "c08fb7a1-d575-4f1b-b590-9fe8a03be98d",
   "metadata": {},
   "outputs": [],
   "source": []
  }
 ],
 "metadata": {
  "kernelspec": {
   "display_name": "Python [conda env:base] *",
   "language": "python",
   "name": "conda-base-py"
  },
  "language_info": {
   "codemirror_mode": {
    "name": "ipython",
    "version": 3
   },
   "file_extension": ".py",
   "mimetype": "text/x-python",
   "name": "python",
   "nbconvert_exporter": "python",
   "pygments_lexer": "ipython3",
   "version": "3.12.7"
  }
 },
 "nbformat": 4,
 "nbformat_minor": 5
}
